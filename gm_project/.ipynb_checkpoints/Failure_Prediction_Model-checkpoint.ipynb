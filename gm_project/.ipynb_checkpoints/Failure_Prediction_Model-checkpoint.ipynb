{
 "cells": [
  {
   "cell_type": "code",
   "execution_count": 114,
   "metadata": {},
   "outputs": [],
   "source": [
    "#### Importing necessary Libraries ####\n",
    "import numpy as np\n",
    "import pandas as pd\n",
    "from sklearn.utils import resample\n",
    "import pickle\n",
    "from sklearn.model_selection import train_test_split\n",
    "from sklearn.neural_network import MLPClassifier\n",
    "from sklearn.multiclass import OneVsOneClassifier\n",
    "from sklearn.svm import SVC\n",
    "from sklearn import preprocessing\n",
    "from sklearn import utils\n",
    "from sklearn.feature_selection import f_classif\n",
    "from matplotlib import pyplot as plt\n",
    "import matplotlib as mp"
   ]
  },
  {
   "cell_type": "code",
   "execution_count": 115,
   "metadata": {},
   "outputs": [],
   "source": [
    "#### getting data and Pre-Processing ######\n",
    "df = pd.read_csv(\"D:/MSCS/GraphMining/GM_VE/gm_project/data/MF.csv\")\n",
    "df = df.drop(['Date', 'Operator'], axis=1)\n",
    "df = df.iloc[:,0:19]"
   ]
  },
  {
   "cell_type": "code",
   "execution_count": 116,
   "metadata": {},
   "outputs": [
    {
     "data": {
      "text/html": [
       "<div>\n",
       "<style scoped>\n",
       "    .dataframe tbody tr th:only-of-type {\n",
       "        vertical-align: middle;\n",
       "    }\n",
       "\n",
       "    .dataframe tbody tr th {\n",
       "        vertical-align: top;\n",
       "    }\n",
       "\n",
       "    .dataframe thead th {\n",
       "        text-align: right;\n",
       "    }\n",
       "</style>\n",
       "<table border=\"1\" class=\"dataframe\">\n",
       "  <thead>\n",
       "    <tr style=\"text-align: right;\">\n",
       "      <th></th>\n",
       "      <th>Temperature</th>\n",
       "      <th>Humidity</th>\n",
       "      <th>Measure1</th>\n",
       "      <th>Measure2</th>\n",
       "      <th>Measure3</th>\n",
       "      <th>Measure4</th>\n",
       "      <th>Measure5</th>\n",
       "      <th>Measure6</th>\n",
       "      <th>Measure7</th>\n",
       "      <th>Measure8</th>\n",
       "      <th>Measure9</th>\n",
       "      <th>Measure10</th>\n",
       "      <th>Measure11</th>\n",
       "      <th>Measure12</th>\n",
       "      <th>Measure13</th>\n",
       "      <th>Measure14</th>\n",
       "      <th>Measure15</th>\n",
       "      <th>Hours Since Previous Failure</th>\n",
       "      <th>Failure</th>\n",
       "    </tr>\n",
       "  </thead>\n",
       "  <tbody>\n",
       "    <tr>\n",
       "      <th>0</th>\n",
       "      <td>67</td>\n",
       "      <td>82</td>\n",
       "      <td>291</td>\n",
       "      <td>1</td>\n",
       "      <td>1</td>\n",
       "      <td>1041</td>\n",
       "      <td>846</td>\n",
       "      <td>334</td>\n",
       "      <td>706</td>\n",
       "      <td>1086</td>\n",
       "      <td>256</td>\n",
       "      <td>1295</td>\n",
       "      <td>766</td>\n",
       "      <td>968</td>\n",
       "      <td>1185</td>\n",
       "      <td>1355</td>\n",
       "      <td>1842</td>\n",
       "      <td>90</td>\n",
       "      <td>No</td>\n",
       "    </tr>\n",
       "    <tr>\n",
       "      <th>1</th>\n",
       "      <td>68</td>\n",
       "      <td>77</td>\n",
       "      <td>1180</td>\n",
       "      <td>1</td>\n",
       "      <td>1</td>\n",
       "      <td>1915</td>\n",
       "      <td>1194</td>\n",
       "      <td>637</td>\n",
       "      <td>1093</td>\n",
       "      <td>524</td>\n",
       "      <td>919</td>\n",
       "      <td>245</td>\n",
       "      <td>403</td>\n",
       "      <td>723</td>\n",
       "      <td>1446</td>\n",
       "      <td>719</td>\n",
       "      <td>748</td>\n",
       "      <td>91</td>\n",
       "      <td>No</td>\n",
       "    </tr>\n",
       "    <tr>\n",
       "      <th>2</th>\n",
       "      <td>64</td>\n",
       "      <td>76</td>\n",
       "      <td>1406</td>\n",
       "      <td>1</td>\n",
       "      <td>1</td>\n",
       "      <td>511</td>\n",
       "      <td>1577</td>\n",
       "      <td>1121</td>\n",
       "      <td>1948</td>\n",
       "      <td>1882</td>\n",
       "      <td>1301</td>\n",
       "      <td>273</td>\n",
       "      <td>1927</td>\n",
       "      <td>1123</td>\n",
       "      <td>717</td>\n",
       "      <td>1518</td>\n",
       "      <td>1689</td>\n",
       "      <td>92</td>\n",
       "      <td>No</td>\n",
       "    </tr>\n",
       "    <tr>\n",
       "      <th>3</th>\n",
       "      <td>63</td>\n",
       "      <td>80</td>\n",
       "      <td>550</td>\n",
       "      <td>1</td>\n",
       "      <td>1</td>\n",
       "      <td>1754</td>\n",
       "      <td>1834</td>\n",
       "      <td>1413</td>\n",
       "      <td>1151</td>\n",
       "      <td>945</td>\n",
       "      <td>1312</td>\n",
       "      <td>1494</td>\n",
       "      <td>1755</td>\n",
       "      <td>1434</td>\n",
       "      <td>502</td>\n",
       "      <td>1336</td>\n",
       "      <td>711</td>\n",
       "      <td>93</td>\n",
       "      <td>No</td>\n",
       "    </tr>\n",
       "    <tr>\n",
       "      <th>4</th>\n",
       "      <td>65</td>\n",
       "      <td>81</td>\n",
       "      <td>1928</td>\n",
       "      <td>1</td>\n",
       "      <td>2</td>\n",
       "      <td>1326</td>\n",
       "      <td>1082</td>\n",
       "      <td>233</td>\n",
       "      <td>1441</td>\n",
       "      <td>1736</td>\n",
       "      <td>1033</td>\n",
       "      <td>1549</td>\n",
       "      <td>802</td>\n",
       "      <td>1819</td>\n",
       "      <td>1616</td>\n",
       "      <td>1507</td>\n",
       "      <td>507</td>\n",
       "      <td>94</td>\n",
       "      <td>No</td>\n",
       "    </tr>\n",
       "    <tr>\n",
       "      <th>...</th>\n",
       "      <td>...</td>\n",
       "      <td>...</td>\n",
       "      <td>...</td>\n",
       "      <td>...</td>\n",
       "      <td>...</td>\n",
       "      <td>...</td>\n",
       "      <td>...</td>\n",
       "      <td>...</td>\n",
       "      <td>...</td>\n",
       "      <td>...</td>\n",
       "      <td>...</td>\n",
       "      <td>...</td>\n",
       "      <td>...</td>\n",
       "      <td>...</td>\n",
       "      <td>...</td>\n",
       "      <td>...</td>\n",
       "      <td>...</td>\n",
       "      <td>...</td>\n",
       "      <td>...</td>\n",
       "    </tr>\n",
       "    <tr>\n",
       "      <th>8779</th>\n",
       "      <td>66</td>\n",
       "      <td>79</td>\n",
       "      <td>937</td>\n",
       "      <td>0</td>\n",
       "      <td>2</td>\n",
       "      <td>1875</td>\n",
       "      <td>1719</td>\n",
       "      <td>219</td>\n",
       "      <td>748</td>\n",
       "      <td>1901</td>\n",
       "      <td>819</td>\n",
       "      <td>546</td>\n",
       "      <td>901</td>\n",
       "      <td>1512</td>\n",
       "      <td>1477</td>\n",
       "      <td>537</td>\n",
       "      <td>410</td>\n",
       "      <td>7</td>\n",
       "      <td>No</td>\n",
       "    </tr>\n",
       "    <tr>\n",
       "      <th>8780</th>\n",
       "      <td>60</td>\n",
       "      <td>77</td>\n",
       "      <td>379</td>\n",
       "      <td>3</td>\n",
       "      <td>0</td>\n",
       "      <td>814</td>\n",
       "      <td>1990</td>\n",
       "      <td>1606</td>\n",
       "      <td>1346</td>\n",
       "      <td>962</td>\n",
       "      <td>875</td>\n",
       "      <td>1067</td>\n",
       "      <td>608</td>\n",
       "      <td>251</td>\n",
       "      <td>1476</td>\n",
       "      <td>522</td>\n",
       "      <td>943</td>\n",
       "      <td>8</td>\n",
       "      <td>No</td>\n",
       "    </tr>\n",
       "    <tr>\n",
       "      <th>8781</th>\n",
       "      <td>61</td>\n",
       "      <td>77</td>\n",
       "      <td>595</td>\n",
       "      <td>3</td>\n",
       "      <td>1</td>\n",
       "      <td>1659</td>\n",
       "      <td>1134</td>\n",
       "      <td>1314</td>\n",
       "      <td>907</td>\n",
       "      <td>1119</td>\n",
       "      <td>1623</td>\n",
       "      <td>272</td>\n",
       "      <td>1149</td>\n",
       "      <td>1951</td>\n",
       "      <td>1835</td>\n",
       "      <td>1554</td>\n",
       "      <td>200</td>\n",
       "      <td>9</td>\n",
       "      <td>No</td>\n",
       "    </tr>\n",
       "    <tr>\n",
       "      <th>8782</th>\n",
       "      <td>72</td>\n",
       "      <td>81</td>\n",
       "      <td>1038</td>\n",
       "      <td>3</td>\n",
       "      <td>2</td>\n",
       "      <td>254</td>\n",
       "      <td>1400</td>\n",
       "      <td>564</td>\n",
       "      <td>216</td>\n",
       "      <td>1011</td>\n",
       "      <td>1909</td>\n",
       "      <td>502</td>\n",
       "      <td>470</td>\n",
       "      <td>1331</td>\n",
       "      <td>1696</td>\n",
       "      <td>229</td>\n",
       "      <td>1192</td>\n",
       "      <td>10</td>\n",
       "      <td>No</td>\n",
       "    </tr>\n",
       "    <tr>\n",
       "      <th>8783</th>\n",
       "      <td>60</td>\n",
       "      <td>82</td>\n",
       "      <td>399</td>\n",
       "      <td>0</td>\n",
       "      <td>1</td>\n",
       "      <td>324</td>\n",
       "      <td>1424</td>\n",
       "      <td>809</td>\n",
       "      <td>919</td>\n",
       "      <td>1392</td>\n",
       "      <td>481</td>\n",
       "      <td>1109</td>\n",
       "      <td>1061</td>\n",
       "      <td>1669</td>\n",
       "      <td>1444</td>\n",
       "      <td>744</td>\n",
       "      <td>1548</td>\n",
       "      <td>11</td>\n",
       "      <td>No</td>\n",
       "    </tr>\n",
       "  </tbody>\n",
       "</table>\n",
       "<p>8784 rows × 19 columns</p>\n",
       "</div>"
      ],
      "text/plain": [
       "      Temperature  Humidity  Measure1  Measure2  Measure3  Measure4  Measure5  \\\n",
       "0              67        82       291         1         1      1041       846   \n",
       "1              68        77      1180         1         1      1915      1194   \n",
       "2              64        76      1406         1         1       511      1577   \n",
       "3              63        80       550         1         1      1754      1834   \n",
       "4              65        81      1928         1         2      1326      1082   \n",
       "...           ...       ...       ...       ...       ...       ...       ...   \n",
       "8779           66        79       937         0         2      1875      1719   \n",
       "8780           60        77       379         3         0       814      1990   \n",
       "8781           61        77       595         3         1      1659      1134   \n",
       "8782           72        81      1038         3         2       254      1400   \n",
       "8783           60        82       399         0         1       324      1424   \n",
       "\n",
       "      Measure6  Measure7  Measure8  Measure9  Measure10  Measure11  Measure12  \\\n",
       "0          334       706      1086       256       1295        766        968   \n",
       "1          637      1093       524       919        245        403        723   \n",
       "2         1121      1948      1882      1301        273       1927       1123   \n",
       "3         1413      1151       945      1312       1494       1755       1434   \n",
       "4          233      1441      1736      1033       1549        802       1819   \n",
       "...        ...       ...       ...       ...        ...        ...        ...   \n",
       "8779       219       748      1901       819        546        901       1512   \n",
       "8780      1606      1346       962       875       1067        608        251   \n",
       "8781      1314       907      1119      1623        272       1149       1951   \n",
       "8782       564       216      1011      1909        502        470       1331   \n",
       "8783       809       919      1392       481       1109       1061       1669   \n",
       "\n",
       "      Measure13  Measure14  Measure15  Hours Since Previous Failure Failure  \n",
       "0          1185       1355       1842                            90      No  \n",
       "1          1446        719        748                            91      No  \n",
       "2           717       1518       1689                            92      No  \n",
       "3           502       1336        711                            93      No  \n",
       "4          1616       1507        507                            94      No  \n",
       "...         ...        ...        ...                           ...     ...  \n",
       "8779       1477        537        410                             7      No  \n",
       "8780       1476        522        943                             8      No  \n",
       "8781       1835       1554        200                             9      No  \n",
       "8782       1696        229       1192                            10      No  \n",
       "8783       1444        744       1548                            11      No  \n",
       "\n",
       "[8784 rows x 19 columns]"
      ]
     },
     "execution_count": 116,
     "metadata": {},
     "output_type": "execute_result"
    }
   ],
   "source": [
    "### Visualizing the pre-processed data #####\n",
    "df"
   ]
  },
  {
   "cell_type": "code",
   "execution_count": 117,
   "metadata": {},
   "outputs": [],
   "source": [
    "#### Pre-processing labels ####\n",
    "## Not Failure is represented with \"0\" and Failure of server with \"1\" \n",
    "df.loc[df[\"Failure\"] == \"No\",\"Failure\"] = 0\n",
    "df.loc[df[\"Failure\"] == \"Yes\",\"Failure\"] = 1"
   ]
  },
  {
   "cell_type": "code",
   "execution_count": 118,
   "metadata": {},
   "outputs": [
    {
     "data": {
      "text/html": [
       "<div>\n",
       "<style scoped>\n",
       "    .dataframe tbody tr th:only-of-type {\n",
       "        vertical-align: middle;\n",
       "    }\n",
       "\n",
       "    .dataframe tbody tr th {\n",
       "        vertical-align: top;\n",
       "    }\n",
       "\n",
       "    .dataframe thead th {\n",
       "        text-align: right;\n",
       "    }\n",
       "</style>\n",
       "<table border=\"1\" class=\"dataframe\">\n",
       "  <thead>\n",
       "    <tr style=\"text-align: right;\">\n",
       "      <th></th>\n",
       "      <th>Temperature</th>\n",
       "      <th>Humidity</th>\n",
       "      <th>Measure1</th>\n",
       "      <th>Measure2</th>\n",
       "      <th>Measure3</th>\n",
       "      <th>Measure4</th>\n",
       "      <th>Measure5</th>\n",
       "      <th>Measure6</th>\n",
       "      <th>Measure7</th>\n",
       "      <th>Measure8</th>\n",
       "      <th>Measure9</th>\n",
       "      <th>Measure10</th>\n",
       "      <th>Measure11</th>\n",
       "      <th>Measure12</th>\n",
       "      <th>Measure13</th>\n",
       "      <th>Measure14</th>\n",
       "      <th>Measure15</th>\n",
       "      <th>Hours Since Previous Failure</th>\n",
       "      <th>Failure</th>\n",
       "    </tr>\n",
       "  </thead>\n",
       "  <tbody>\n",
       "    <tr>\n",
       "      <th>0</th>\n",
       "      <td>67</td>\n",
       "      <td>82</td>\n",
       "      <td>291</td>\n",
       "      <td>1</td>\n",
       "      <td>1</td>\n",
       "      <td>1041</td>\n",
       "      <td>846</td>\n",
       "      <td>334</td>\n",
       "      <td>706</td>\n",
       "      <td>1086</td>\n",
       "      <td>256</td>\n",
       "      <td>1295</td>\n",
       "      <td>766</td>\n",
       "      <td>968</td>\n",
       "      <td>1185</td>\n",
       "      <td>1355</td>\n",
       "      <td>1842</td>\n",
       "      <td>90</td>\n",
       "      <td>0</td>\n",
       "    </tr>\n",
       "    <tr>\n",
       "      <th>1</th>\n",
       "      <td>68</td>\n",
       "      <td>77</td>\n",
       "      <td>1180</td>\n",
       "      <td>1</td>\n",
       "      <td>1</td>\n",
       "      <td>1915</td>\n",
       "      <td>1194</td>\n",
       "      <td>637</td>\n",
       "      <td>1093</td>\n",
       "      <td>524</td>\n",
       "      <td>919</td>\n",
       "      <td>245</td>\n",
       "      <td>403</td>\n",
       "      <td>723</td>\n",
       "      <td>1446</td>\n",
       "      <td>719</td>\n",
       "      <td>748</td>\n",
       "      <td>91</td>\n",
       "      <td>0</td>\n",
       "    </tr>\n",
       "    <tr>\n",
       "      <th>2</th>\n",
       "      <td>64</td>\n",
       "      <td>76</td>\n",
       "      <td>1406</td>\n",
       "      <td>1</td>\n",
       "      <td>1</td>\n",
       "      <td>511</td>\n",
       "      <td>1577</td>\n",
       "      <td>1121</td>\n",
       "      <td>1948</td>\n",
       "      <td>1882</td>\n",
       "      <td>1301</td>\n",
       "      <td>273</td>\n",
       "      <td>1927</td>\n",
       "      <td>1123</td>\n",
       "      <td>717</td>\n",
       "      <td>1518</td>\n",
       "      <td>1689</td>\n",
       "      <td>92</td>\n",
       "      <td>0</td>\n",
       "    </tr>\n",
       "    <tr>\n",
       "      <th>3</th>\n",
       "      <td>63</td>\n",
       "      <td>80</td>\n",
       "      <td>550</td>\n",
       "      <td>1</td>\n",
       "      <td>1</td>\n",
       "      <td>1754</td>\n",
       "      <td>1834</td>\n",
       "      <td>1413</td>\n",
       "      <td>1151</td>\n",
       "      <td>945</td>\n",
       "      <td>1312</td>\n",
       "      <td>1494</td>\n",
       "      <td>1755</td>\n",
       "      <td>1434</td>\n",
       "      <td>502</td>\n",
       "      <td>1336</td>\n",
       "      <td>711</td>\n",
       "      <td>93</td>\n",
       "      <td>0</td>\n",
       "    </tr>\n",
       "    <tr>\n",
       "      <th>4</th>\n",
       "      <td>65</td>\n",
       "      <td>81</td>\n",
       "      <td>1928</td>\n",
       "      <td>1</td>\n",
       "      <td>2</td>\n",
       "      <td>1326</td>\n",
       "      <td>1082</td>\n",
       "      <td>233</td>\n",
       "      <td>1441</td>\n",
       "      <td>1736</td>\n",
       "      <td>1033</td>\n",
       "      <td>1549</td>\n",
       "      <td>802</td>\n",
       "      <td>1819</td>\n",
       "      <td>1616</td>\n",
       "      <td>1507</td>\n",
       "      <td>507</td>\n",
       "      <td>94</td>\n",
       "      <td>0</td>\n",
       "    </tr>\n",
       "    <tr>\n",
       "      <th>...</th>\n",
       "      <td>...</td>\n",
       "      <td>...</td>\n",
       "      <td>...</td>\n",
       "      <td>...</td>\n",
       "      <td>...</td>\n",
       "      <td>...</td>\n",
       "      <td>...</td>\n",
       "      <td>...</td>\n",
       "      <td>...</td>\n",
       "      <td>...</td>\n",
       "      <td>...</td>\n",
       "      <td>...</td>\n",
       "      <td>...</td>\n",
       "      <td>...</td>\n",
       "      <td>...</td>\n",
       "      <td>...</td>\n",
       "      <td>...</td>\n",
       "      <td>...</td>\n",
       "      <td>...</td>\n",
       "    </tr>\n",
       "    <tr>\n",
       "      <th>8779</th>\n",
       "      <td>66</td>\n",
       "      <td>79</td>\n",
       "      <td>937</td>\n",
       "      <td>0</td>\n",
       "      <td>2</td>\n",
       "      <td>1875</td>\n",
       "      <td>1719</td>\n",
       "      <td>219</td>\n",
       "      <td>748</td>\n",
       "      <td>1901</td>\n",
       "      <td>819</td>\n",
       "      <td>546</td>\n",
       "      <td>901</td>\n",
       "      <td>1512</td>\n",
       "      <td>1477</td>\n",
       "      <td>537</td>\n",
       "      <td>410</td>\n",
       "      <td>7</td>\n",
       "      <td>0</td>\n",
       "    </tr>\n",
       "    <tr>\n",
       "      <th>8780</th>\n",
       "      <td>60</td>\n",
       "      <td>77</td>\n",
       "      <td>379</td>\n",
       "      <td>3</td>\n",
       "      <td>0</td>\n",
       "      <td>814</td>\n",
       "      <td>1990</td>\n",
       "      <td>1606</td>\n",
       "      <td>1346</td>\n",
       "      <td>962</td>\n",
       "      <td>875</td>\n",
       "      <td>1067</td>\n",
       "      <td>608</td>\n",
       "      <td>251</td>\n",
       "      <td>1476</td>\n",
       "      <td>522</td>\n",
       "      <td>943</td>\n",
       "      <td>8</td>\n",
       "      <td>0</td>\n",
       "    </tr>\n",
       "    <tr>\n",
       "      <th>8781</th>\n",
       "      <td>61</td>\n",
       "      <td>77</td>\n",
       "      <td>595</td>\n",
       "      <td>3</td>\n",
       "      <td>1</td>\n",
       "      <td>1659</td>\n",
       "      <td>1134</td>\n",
       "      <td>1314</td>\n",
       "      <td>907</td>\n",
       "      <td>1119</td>\n",
       "      <td>1623</td>\n",
       "      <td>272</td>\n",
       "      <td>1149</td>\n",
       "      <td>1951</td>\n",
       "      <td>1835</td>\n",
       "      <td>1554</td>\n",
       "      <td>200</td>\n",
       "      <td>9</td>\n",
       "      <td>0</td>\n",
       "    </tr>\n",
       "    <tr>\n",
       "      <th>8782</th>\n",
       "      <td>72</td>\n",
       "      <td>81</td>\n",
       "      <td>1038</td>\n",
       "      <td>3</td>\n",
       "      <td>2</td>\n",
       "      <td>254</td>\n",
       "      <td>1400</td>\n",
       "      <td>564</td>\n",
       "      <td>216</td>\n",
       "      <td>1011</td>\n",
       "      <td>1909</td>\n",
       "      <td>502</td>\n",
       "      <td>470</td>\n",
       "      <td>1331</td>\n",
       "      <td>1696</td>\n",
       "      <td>229</td>\n",
       "      <td>1192</td>\n",
       "      <td>10</td>\n",
       "      <td>0</td>\n",
       "    </tr>\n",
       "    <tr>\n",
       "      <th>8783</th>\n",
       "      <td>60</td>\n",
       "      <td>82</td>\n",
       "      <td>399</td>\n",
       "      <td>0</td>\n",
       "      <td>1</td>\n",
       "      <td>324</td>\n",
       "      <td>1424</td>\n",
       "      <td>809</td>\n",
       "      <td>919</td>\n",
       "      <td>1392</td>\n",
       "      <td>481</td>\n",
       "      <td>1109</td>\n",
       "      <td>1061</td>\n",
       "      <td>1669</td>\n",
       "      <td>1444</td>\n",
       "      <td>744</td>\n",
       "      <td>1548</td>\n",
       "      <td>11</td>\n",
       "      <td>0</td>\n",
       "    </tr>\n",
       "  </tbody>\n",
       "</table>\n",
       "<p>8784 rows × 19 columns</p>\n",
       "</div>"
      ],
      "text/plain": [
       "      Temperature  Humidity  Measure1  Measure2  Measure3  Measure4  Measure5  \\\n",
       "0              67        82       291         1         1      1041       846   \n",
       "1              68        77      1180         1         1      1915      1194   \n",
       "2              64        76      1406         1         1       511      1577   \n",
       "3              63        80       550         1         1      1754      1834   \n",
       "4              65        81      1928         1         2      1326      1082   \n",
       "...           ...       ...       ...       ...       ...       ...       ...   \n",
       "8779           66        79       937         0         2      1875      1719   \n",
       "8780           60        77       379         3         0       814      1990   \n",
       "8781           61        77       595         3         1      1659      1134   \n",
       "8782           72        81      1038         3         2       254      1400   \n",
       "8783           60        82       399         0         1       324      1424   \n",
       "\n",
       "      Measure6  Measure7  Measure8  Measure9  Measure10  Measure11  Measure12  \\\n",
       "0          334       706      1086       256       1295        766        968   \n",
       "1          637      1093       524       919        245        403        723   \n",
       "2         1121      1948      1882      1301        273       1927       1123   \n",
       "3         1413      1151       945      1312       1494       1755       1434   \n",
       "4          233      1441      1736      1033       1549        802       1819   \n",
       "...        ...       ...       ...       ...        ...        ...        ...   \n",
       "8779       219       748      1901       819        546        901       1512   \n",
       "8780      1606      1346       962       875       1067        608        251   \n",
       "8781      1314       907      1119      1623        272       1149       1951   \n",
       "8782       564       216      1011      1909        502        470       1331   \n",
       "8783       809       919      1392       481       1109       1061       1669   \n",
       "\n",
       "      Measure13  Measure14  Measure15  Hours Since Previous Failure Failure  \n",
       "0          1185       1355       1842                            90       0  \n",
       "1          1446        719        748                            91       0  \n",
       "2           717       1518       1689                            92       0  \n",
       "3           502       1336        711                            93       0  \n",
       "4          1616       1507        507                            94       0  \n",
       "...         ...        ...        ...                           ...     ...  \n",
       "8779       1477        537        410                             7       0  \n",
       "8780       1476        522        943                             8       0  \n",
       "8781       1835       1554        200                             9       0  \n",
       "8782       1696        229       1192                            10       0  \n",
       "8783       1444        744       1548                            11       0  \n",
       "\n",
       "[8784 rows x 19 columns]"
      ]
     },
     "execution_count": 118,
     "metadata": {},
     "output_type": "execute_result"
    }
   ],
   "source": [
    "df"
   ]
  },
  {
   "cell_type": "code",
   "execution_count": 119,
   "metadata": {},
   "outputs": [],
   "source": [
    "### Sperating data for treating it as a supervised learning problem ######\n",
    "y = df.Failure\n",
    "X = df.drop('Failure', axis=1)\n",
    "Feture_scores = f_classif(X,y)"
   ]
  },
  {
   "cell_type": "code",
   "execution_count": 122,
   "metadata": {},
   "outputs": [
    {
     "data": {
      "text/plain": [
       "<BarContainer object of 18 artists>"
      ]
     },
     "execution_count": 122,
     "metadata": {},
     "output_type": "execute_result"
    },
    {
     "data": {
      "image/png": "[encoded data removed]",
      "text/plain": [
       "<Figure size 360x360 with 1 Axes>"
      ]
     },
     "metadata": {
      "needs_background": "light"
     },
     "output_type": "display_data"
    }
   ],
   "source": [
    "#### EDA #####\n",
    "\"\"\"\n",
    "Exploring Imporatance of Features and factor of impact on models\n",
    "Also The pairwaise core relation of these features to check wheather the dataset can be used to create a model\n",
    "\n",
    "\"\"\"\n",
    "labels_color = np.arange(1,19)\n",
    "plt.figure(figsize=(5, 5))\n",
    "color_map = mp.colors.LinearSegmentedColormap(\n",
    "    \"my_map\",\n",
    "    {\n",
    "        \"red\": [(0, 1.0, 1.0),\n",
    "                (1.0, .5, .5)],\n",
    "        \"green\": [(0, 0.5, 0.5),\n",
    "                  (1.0, 0, 0)],\n",
    "        \"blue\": [(0, 0.50, 0.5),\n",
    "                 (1.0, 0, 0)]\n",
    "    }\n",
    ")\n",
    "plt.bar(np.arange(len(Feture_scores[0])),Feture_scores[0],color=color_map(labels_color) )\n",
    "#plt.show()\n"
   ]
  },
  {
   "cell_type": "code",
   "execution_count": 16,
   "metadata": {},
   "outputs": [],
   "source": [
    "#df.to_csv(\"D:/MSCS/GraphMining/GM_VE/gm_project/data/MF_processed.csv\")"
   ]
  },
  {
   "cell_type": "code",
   "execution_count": 123,
   "metadata": {},
   "outputs": [
    {
     "data": {
      "text/plain": [
       "Text(0, 0.5, 'Humidity')"
      ]
     },
     "execution_count": 123,
     "metadata": {},
     "output_type": "execute_result"
    },
    {
     "data": {
      "image/png": "[encoded data removed]",
      "text/plain": [
       "<Figure size 432x288 with 1 Axes>"
      ]
     },
     "metadata": {
      "needs_background": "light"
     },
     "output_type": "display_data"
    }
   ],
   "source": [
    "Temp_x = df.iloc[:,0:2]\n",
    "X1 = Temp_x.values[:][:,0]\n",
    "Y1 = Temp_x.values[:][:,1]\n",
    "plt.scatter(X1,Y1, c=y, cmap='rainbow', alpha=1, s = 5)\n",
    "plt.xlabel('temperature')\n",
    "plt.ylabel('Humidity')\n",
    "\n"
   ]
  },
  {
   "cell_type": "code",
   "execution_count": 124,
   "metadata": {},
   "outputs": [
    {
     "data": {
      "text/plain": [
       "Text(0, 0.5, 'hours Since failure')"
      ]
     },
     "execution_count": 124,
     "metadata": {},
     "output_type": "execute_result"
    },
    {
     "data": {
      "image/png": "[encoded data removed]",
      "text/plain": [
       "<Figure size 432x288 with 1 Axes>"
      ]
     },
     "metadata": {
      "needs_background": "light"
     },
     "output_type": "display_data"
    }
   ],
   "source": [
    "working_x = df.iloc[:,17:18]\n",
    "Y2 = working_x.values[:][:,0]\n",
    "plt.scatter(X1,Y2, c=y, cmap='rainbow', alpha=1, s = 5)\n",
    "plt.xlabel('temperature')\n",
    "plt.ylabel('hours Since failure')"
   ]
  },
  {
   "cell_type": "code",
   "execution_count": 125,
   "metadata": {},
   "outputs": [],
   "source": [
    "# Separate majority and minority classes\n",
    "df_majority = df[df.Failure==0]\n",
    "df_minority = df[df.Failure==1]"
   ]
  },
  {
   "cell_type": "code",
   "execution_count": 126,
   "metadata": {},
   "outputs": [],
   "source": [
    "# Upsample minority class\n",
    "df_minority_upsampled = resample(df_minority, \n",
    "                                 replace=True,     # sample with replacement\n",
    "                                 n_samples=8703,    # to match majority class\n",
    "                                 random_state=123) # reproducible results\n",
    "df_upsampled = pd.concat([df_majority, df_minority_upsampled])"
   ]
  },
  {
   "cell_type": "code",
   "execution_count": 127,
   "metadata": {},
   "outputs": [],
   "source": [
    "### train test splitting ###\n",
    "y = df_upsampled.Failure\n",
    "X = df_upsampled.drop('Failure', axis=1)\n",
    "x_train, x_test, y_train, y_test = train_test_split(X, y, test_size = 0.3, random_state=42)"
   ]
  },
  {
   "cell_type": "code",
   "execution_count": 128,
   "metadata": {},
   "outputs": [],
   "source": [
    "lab_enc = preprocessing.LabelEncoder()\n",
    "training_scores_encoded = lab_enc.fit_transform(y_train)"
   ]
  },
  {
   "cell_type": "code",
   "execution_count": null,
   "metadata": {},
   "outputs": [],
   "source": [
    "subclf = SVC(kernel = 'rbf')\n",
    "clf1 = OneVsOneClassifier(estimator=subclf)\n",
    "\n",
    "clf1.fit(x_train, training_scores_encoded)"
   ]
  },
  {
   "cell_type": "code",
   "execution_count": null,
   "metadata": {},
   "outputs": [],
   "source": [
    "lab_enc = preprocessing.LabelEncoder()\n",
    "test_scores_encoded = lab_enc.fit_transform(y_test)"
   ]
  },
  {
   "cell_type": "code",
   "execution_count": null,
   "metadata": {},
   "outputs": [],
   "source": [
    "clf1.score(x_test, test_scores_encoded)"
   ]
  },
  {
   "cell_type": "raw",
   "metadata": {},
   "source": [
    "\n"
   ]
  },
  {
   "cell_type": "code",
   "execution_count": 51,
   "metadata": {},
   "outputs": [],
   "source": []
  },
  {
   "cell_type": "code",
   "execution_count": 73,
   "metadata": {},
   "outputs": [],
   "source": []
  },
  {
   "cell_type": "code",
   "execution_count": 89,
   "metadata": {},
   "outputs": [
    {
     "data": {
      "text/plain": [
       "67"
      ]
     },
     "execution_count": 89,
     "metadata": {},
     "output_type": "execute_result"
    }
   ],
   "source": []
  },
  {
   "cell_type": "code",
   "execution_count": 96,
   "metadata": {},
   "outputs": [
    {
     "data": {
      "text/plain": [
       "0       0\n",
       "1       0\n",
       "2       0\n",
       "3       0\n",
       "4       0\n",
       "       ..\n",
       "8779    0\n",
       "8780    0\n",
       "8781    0\n",
       "8782    0\n",
       "8783    0\n",
       "Name: Failure, Length: 8784, dtype: object"
      ]
     },
     "execution_count": 96,
     "metadata": {},
     "output_type": "execute_result"
    }
   ],
   "source": []
  },
  {
   "cell_type": "code",
   "execution_count": 103,
   "metadata": {},
   "outputs": [
    {
     "data": {
      "text/plain": [
       "Text(0, 0.5, 'Humidity')"
      ]
     },
     "execution_count": 103,
     "metadata": {},
     "output_type": "execute_result"
    },
    {
     "data": {
      "image/png": "[encoded data removed]",
      "text/plain": [
       "<Figure size 432x288 with 1 Axes>"
      ]
     },
     "metadata": {
      "needs_background": "light"
     },
     "output_type": "display_data"
    }
   ],
   "source": []
  },
  {
   "cell_type": "code",
   "execution_count": 112,
   "metadata": {},
   "outputs": [],
   "source": []
  },
  {
   "cell_type": "code",
   "execution_count": 113,
   "metadata": {},
   "outputs": [
    {
     "data": {
      "text/plain": [
       "Text(0, 0.5, 'hours Since failure')"
      ]
     },
     "execution_count": 113,
     "metadata": {},
     "output_type": "execute_result"
    },
    {
     "data": {
      "image/png": "[encoded data removed]",
      "text/plain": [
       "<Figure size 432x288 with 1 Axes>"
      ]
     },
     "metadata": {
      "needs_background": "light"
     },
     "output_type": "display_data"
    }
   ],
   "source": [
    "plt.scatter(X1,Y2, c=y, cmap='rainbow', alpha=1, s = 5)\n",
    "plt.xlabel('temperature')\n",
    "plt.ylabel('hours Since failure')"
   ]
  },
  {
   "cell_type": "code",
   "execution_count": 7,
   "metadata": {},
   "outputs": [],
   "source": [
    "# Separate majority and minority classes\n",
    "df_majority = df[df.Failure==0]\n",
    "df_minority = df[df.Failure==1]"
   ]
  },
  {
   "cell_type": "code",
   "execution_count": 35,
   "metadata": {},
   "outputs": [
    {
     "data": {
      "text/plain": [
       "8703"
      ]
     },
     "execution_count": 35,
     "metadata": {},
     "output_type": "execute_result"
    }
   ],
   "source": [
    "len(df_majority)"
   ]
  },
  {
   "cell_type": "code",
   "execution_count": 8,
   "metadata": {},
   "outputs": [],
   "source": [
    "# Upsample minority class\n",
    "df_minority_upsampled = resample(df_minority, \n",
    "                                 replace=True,     # sample with replacement\n",
    "                                 n_samples=8703,    # to match majority class\n",
    "                                 random_state=123) # reproducible results"
   ]
  },
  {
   "cell_type": "code",
   "execution_count": 9,
   "metadata": {},
   "outputs": [],
   "source": [
    "# Combine majority class with upsampled minority class\n",
    "df_upsampled = pd.concat([df_majority, df_minority_upsampled])"
   ]
  },
  {
   "cell_type": "code",
   "execution_count": 10,
   "metadata": {},
   "outputs": [
    {
     "data": {
      "text/plain": [
       "1    8703\n",
       "0    8703\n",
       "Name: Failure, dtype: int64"
      ]
     },
     "execution_count": 10,
     "metadata": {},
     "output_type": "execute_result"
    }
   ],
   "source": [
    "# Display new class counts\n",
    "df_upsampled.Failure.value_counts()"
   ]
  },
  {
   "cell_type": "code",
   "execution_count": 11,
   "metadata": {},
   "outputs": [],
   "source": [
    "y = df_upsampled.Failure\n",
    "X = df_upsampled.drop('Failure', axis=1)"
   ]
  },
  {
   "cell_type": "code",
   "execution_count": 56,
   "metadata": {},
   "outputs": [],
   "source": [
    "y = np.array(y)"
   ]
  },
  {
   "cell_type": "code",
   "execution_count": 14,
   "metadata": {},
   "outputs": [],
   "source": [
    "#### Best features #####\n",
    "Feture_scores = f_classif(X,y)"
   ]
  },
  {
   "cell_type": "code",
   "execution_count": 18,
   "metadata": {},
   "outputs": [
    {
     "data": {
      "text/plain": [
       "array([1.46213106e+04, 1.44156421e+04, 3.60330501e+01, 3.41103772e+01,\n",
       "       1.17229197e+00, 3.16444862e+01, 6.89459181e+01, 1.05857016e+01,\n",
       "       8.23877909e+01, 1.91610842e+02, 9.91437993e+01, 1.78016296e+02,\n",
       "       9.17615456e+01, 8.71902822e+00, 6.95892274e+01, 3.51985175e+01,\n",
       "       2.98743016e+00, 1.88216782e+03])"
      ]
     },
     "execution_count": 18,
     "metadata": {},
     "output_type": "execute_result"
    }
   ],
   "source": [
    "Feture_scores[0]"
   ]
  },
  {
   "cell_type": "code",
   "execution_count": 24,
   "metadata": {},
   "outputs": [
    {
     "data": {
      "text/plain": [
       "<BarContainer object of 18 artists>"
      ]
     },
     "execution_count": 24,
     "metadata": {},
     "output_type": "execute_result"
    },
    {
     "data": {
      "image/png": "[encoded data removed]",
      "text/plain": [
       "<Figure size 432x288 with 1 Axes>"
      ]
     },
     "metadata": {
      "needs_background": "light"
     },
     "output_type": "display_data"
    }
   ],
   "source": [
    "plt.bar(np.arange(len(Feture_scores[0])),Feture_scores[0] )"
   ]
  },
  {
   "cell_type": "code",
   "execution_count": 25,
   "metadata": {},
   "outputs": [],
   "source": [
    "#### training ######\n",
    "x_train, x_test, y_train, y_test = train_test_split(X, y, test_size = 0.3, random_state=42)"
   ]
  },
  {
   "cell_type": "code",
   "execution_count": 26,
   "metadata": {},
   "outputs": [
    {
     "name": "stdout",
     "output_type": "stream",
     "text": [
      "(12184,)\n"
     ]
    }
   ],
   "source": [
    "\n",
    "#print(x_train.shape)\n",
    "print(y_train.shape)\n",
    "#print(x_test.shape)\n",
    "#print(y_test.shape)"
   ]
  },
  {
   "cell_type": "code",
   "execution_count": 27,
   "metadata": {},
   "outputs": [],
   "source": [
    "lab_enc = preprocessing.LabelEncoder()\n",
    "training_scores_encoded = lab_enc.fit_transform(y_train)"
   ]
  },
  {
   "cell_type": "code",
   "execution_count": 28,
   "metadata": {},
   "outputs": [
    {
     "data": {
      "text/plain": [
       "array([0, 0, 0, ..., 0, 0, 1])"
      ]
     },
     "execution_count": 28,
     "metadata": {},
     "output_type": "execute_result"
    }
   ],
   "source": [
    "training_scores_encoded"
   ]
  },
  {
   "cell_type": "code",
   "execution_count": null,
   "metadata": {},
   "outputs": [],
   "source": [
    "subclf = SVC(kernel = 'linear')\n",
    "clf1 = OneVsOneClassifier(estimator=subclf)\n",
    "\n",
    "clf1.fit(x_train, training_scores_encoded)"
   ]
  },
  {
   "cell_type": "code",
   "execution_count": null,
   "metadata": {},
   "outputs": [],
   "source": [
    "lab_enc = preprocessing.LabelEncoder()\n",
    "test_scores_encoded = lab_enc.fit_transform(y_test)"
   ]
  },
  {
   "cell_type": "code",
   "execution_count": null,
   "metadata": {},
   "outputs": [],
   "source": [
    "clf1.score(x_test, test_scores_encoded)"
   ]
  },
  {
   "cell_type": "code",
   "execution_count": null,
   "metadata": {},
   "outputs": [],
   "source": [
    "clf1.score(x_train, training_scores_encoded)"
   ]
  },
  {
   "cell_type": "code",
   "execution_count": null,
   "metadata": {},
   "outputs": [],
   "source": []
  },
  {
   "cell_type": "code",
   "execution_count": null,
   "metadata": {},
   "outputs": [],
   "source": []
  },
  {
   "cell_type": "code",
   "execution_count": null,
   "metadata": {},
   "outputs": [],
   "source": []
  },
  {
   "cell_type": "code",
   "execution_count": null,
   "metadata": {},
   "outputs": [],
   "source": []
  }
 ],
 "metadata": {
  "kernelspec": {
   "display_name": "Python 3",
   "language": "python",
   "name": "python3"
  },
  "language_info": {
   "codemirror_mode": {
    "name": "ipython",
    "version": 3
   },
   "file_extension": ".py",
   "mimetype": "text/x-python",
   "name": "python",
   "nbconvert_exporter": "python",
   "pygments_lexer": "ipython3",
   "version": "3.6.12"
  }
 },
 "nbformat": 4,
 "nbformat_minor": 4
}
