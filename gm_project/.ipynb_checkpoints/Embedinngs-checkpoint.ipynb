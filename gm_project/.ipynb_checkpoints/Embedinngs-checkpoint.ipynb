{
 "cells": [
  {
   "cell_type": "code",
   "execution_count": 2,
   "metadata": {},
   "outputs": [],
   "source": [
    "import numpy as np\n",
    "import matplotlib.pyplot as plt\n",
    "from sklearn.neighbors import kneighbors_graph\n",
    "import networkx as nx\n",
    "from sklearn.metrics.pairwise import euclidean_distances, rbf_kernel\n",
    "from scipy.linalg import eigvals as eigs\n",
    "from numpy import linalg as LA\n",
    "from sklearn.cluster import KMeans\n",
    "import sys\n",
    "from scipy.sparse.linalg import eigsh\n",
    "from scipy.cluster.vq import kmeans2"
   ]
  },
  {
   "cell_type": "code",
   "execution_count": 3,
   "metadata": {},
   "outputs": [],
   "source": [
    "def read_data_nodes(path,pos):\n",
    "    x_tp = []\n",
    "    y_tp = []\n",
    "    label_pos_dict = {}\n",
    "    with open(path) as f:\n",
    "        for line in f:\n",
    "            x, y = line.split(\",\")\n",
    "            x = float(x)\n",
    "            y = float(y)\n",
    "            \n",
    "            x_tp.append((pos[x][0],pos[x][1]))\n",
    "            y_tp.append(y)\n",
    "\n",
    "            # if y in label_pos_dict.keys():\n",
    "            #     label_pos_dict[y] = np.append(label_pos_dict[y],np.array(x_tp[-1]))\n",
    "            # else:\n",
    "            #     label_pos_dict[y] = np.array(x_tp[-1])\n",
    "\n",
    "                           \n",
    "    data_knn = np.array(x_tp)\n",
    "    return data_knn, y_tp"
   ]
  },
  {
   "cell_type": "code",
   "execution_count": 4,
   "metadata": {},
   "outputs": [],
   "source": [
    "def read_dict_node_label(path, pos):\n",
    "    x_tp = []\n",
    "    y_tp = []\n",
    "    nodes_labels = {}\n",
    "    with open(path) as f:\n",
    "        for line in f:\n",
    "            x, y = line.split(\",\")\n",
    "            x = float(x)\n",
    "            y = float(y)\n",
    "            \n",
    "            #x_tp.append((pos[x][0],pos[x][1]))\n",
    "            #y_tp.append(y)\n",
    "\n",
    "            if x in nodes_labels.keys():\n",
    "                nodes_labels[x].append(y)\n",
    "                #print(nodes_labels[x])\n",
    "            else:\n",
    "                nodes_labels[x] = [y]\n",
    "\n",
    "    print(len(nodes_labels.keys()))\n",
    "\n",
    "    return nodes_labels"
   ]
  },
  {
   "cell_type": "code",
   "execution_count": 5,
   "metadata": {},
   "outputs": [],
   "source": [
    "def read_edges(path):\n",
    "    x_tp = []\n",
    "    \n",
    "    with open(path) as f:\n",
    "        for line in f:\n",
    "            x, y = line.split(\",\")\n",
    "            x = float(x)\n",
    "            y = float(y)\n",
    "            x_tp.append( (x,y) )\n",
    "            #pos[str(k)] = (x,y)\n",
    "            #k = k+1\n",
    "    #data_knn = np.array(x_tp)\n",
    "    return x_tp\n",
    "def Accuracy(target, predicted):\n",
    "    for i in range(1,len(target.keys())+1):\n",
    "        cnt = 0\n",
    "        if predicted[i-1] in target[i]:\n",
    "            cnt += 1\n",
    "    print(\"Accuracy: \",cnt/len(target.keys()))"
   ]
  },
  {
   "cell_type": "code",
   "execution_count": 6,
   "metadata": {},
   "outputs": [],
   "source": [
    "def Figure_plot_clusters_all(data, labels, name):\n",
    "    #km = KMeans(n_clusters=4,init='k-means++',random_state=0)\n",
    "    #km.fit_predict(G)\n",
    "    plt.scatter(data[:,0], data[:,1], c=labels, cmap='rainbow', alpha=1, edgecolors='b')\n",
    "    #print(km.labels_)\n",
    "    \n",
    "    plt.colorbar()\n",
    "\n",
    "    plt.xlabel('X')\n",
    "    plt.ylabel('Y')\n",
    "    plt.show()\n",
    "    return None\n",
    "\n",
    "def Figure_plot_clusters(data, G, name):\n",
    "    km = KMeans(n_clusters=39,init='k-means++',random_state=0)\n",
    "    km.fit_predict(G)\n",
    "    #plt.scatter(data[:,0], data[:,1], c=km.labels_, cmap='rainbow', alpha=1, edgecolors='b',s = 400)\n",
    "    print(km.labels_)\n",
    "    Accuracy(data, km.labels_)\n",
    "   \n",
    "    plt.xlabel('X')\n",
    "    plt.ylabel('Y')\n",
    "    plt.show()\n",
    "    return None"
   ]
  },
  {
   "cell_type": "code",
   "execution_count": 8,
   "metadata": {},
   "outputs": [
    {
     "name": "stdout",
     "output_type": "stream",
     "text": [
      "333983\n",
      "10312\n",
      "comptung LP\n",
      "computing values\n",
      "(130,)\n",
      "(10312, 130)\n"
     ]
    }
   ],
   "source": [
    "####----main----####\n",
    "Graph = nx.Graph()\n",
    "    \n",
    "edges = read_edges(\"D:\\MSCS\\GraphMining\\GM_VE\\gm_project\\data\\soc-BlogCatalog-ASU.edges\")\n",
    "print(len(edges))\n",
    "# Adding edges to the grpah\n",
    "Graph.add_edges_from(edges)\n",
    "pos = nx.spring_layout(Graph, seed = 100) \n",
    "#print(pos)\n",
    "node_label_dict = read_dict_node_label(\"D:\\MSCS\\GraphMining\\GM_VE\\gm_project\\data\\soc-BlogCatalog-ASU.node_labels\",pos)\n",
    "#exit()\n",
    "#node_pos, labels = read_data_nodes(\"D:\\MSCS\\GraphMining\\GM_VE\\gm_project\\data\\soc-BlogCatalog-ASU.node_labels\",pos)\n",
    "\n",
    "#fig = plt.figure()\n",
    "#Figure_plot_clusters_all(node_pos,labels,\"clusters_plot\")\n",
    "#nx.draw(Graph,pos, node_size= 10)\n",
    "#plt.show()\n",
    "print(\"comptung LP\")\n",
    "Graph_Lp = nx.normalized_laplacian_matrix(Graph,pos)\n",
    "print(\"computing values\")\n",
    "\n",
    "eigenvalues, eigenvectors = eigsh(Graph_Lp, k=130)\n",
    "print(eigenvalues.shape)\n",
    "print(eigenvectors.shape)\n",
    "\n",
    "# k = 2\n",
    "# eigen_matrix = np.zeros((Graph_Lp.todense().shape[0],k))\n",
    "# for i in range(0,k):\n",
    "#     eigen_matrix[:,i] = eigenvectors[:,i].transpose()\n",
    "\n",
    "# Figure_plot_clusters(node_label_dict,eigen_matrix,\"clustering\")"
   ]
  },
  {
   "cell_type": "code",
   "execution_count": 10,
   "metadata": {},
   "outputs": [],
   "source": [
    "from sklearn.manifold import TSNE\n",
    "from sklearn.decomposition import PCA"
   ]
  },
  {
   "cell_type": "code",
   "execution_count": 11,
   "metadata": {},
   "outputs": [],
   "source": [
    "transform = TSNE  # PCA\n",
    "\n",
    "trans = transform(n_components=2)\n",
    "node_embeddings_2d = trans.fit_transform(eigenvectors)\n"
   ]
  },
  {
   "cell_type": "code",
   "execution_count": null,
   "metadata": {},
   "outputs": [],
   "source": [
    "alpha = 0.7\n",
    "label_map = {l: i for i, l in enumerate(np.unique(node_targets))}\n",
    "node_colours = [label_map[target] for target in node_targets]\n",
    "\n",
    "plt.figure(figsize=(7, 7))\n",
    "plt.axes().set(aspect=\"equal\")\n",
    "plt.scatter(\n",
    "    node_embeddings_2d[:, 0],\n",
    "    node_embeddings_2d[:, 1],\n",
    "    c=node_colours,\n",
    "    cmap=\"jet\",\n",
    "    alpha=alpha,\n",
    ")\n",
    "plt.title(\"{} visualization of node embeddings\".format(transform.__name__))\n",
    "plt.show()"
   ]
  }
 ],
 "metadata": {
  "kernelspec": {
   "display_name": "Python 3",
   "language": "python",
   "name": "python3"
  },
  "language_info": {
   "codemirror_mode": {
    "name": "ipython",
    "version": 3
   },
   "file_extension": ".py",
   "mimetype": "text/x-python",
   "name": "python",
   "nbconvert_exporter": "python",
   "pygments_lexer": "ipython3",
   "version": "3.6.12"
  }
 },
 "nbformat": 4,
 "nbformat_minor": 4
}
