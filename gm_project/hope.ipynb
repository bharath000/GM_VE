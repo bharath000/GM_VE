{
 "cells": [
  {
   "cell_type": "code",
   "execution_count": 1,
   "metadata": {},
   "outputs": [],
   "source": [
    "import matplotlib.pyplot as plt\n",
    "import networkx as nx\n",
    "import numpy as np\n",
    "import scipy.io as sio\n",
    "import scipy.sparse as sp\n",
    "import scipy.sparse.linalg as lg\n",
    "from time import time"
   ]
  },
  {
   "cell_type": "code",
   "execution_count": null,
   "metadata": {},
   "outputs": [],
   "source": [
    " def learn_embedding(graph,d,beta):\n",
    "    \n",
    "\n",
    "        t1 = time()\n",
    "        # A = nx.to_scipy_sparse_matrix(graph)\n",
    "        # I = sp.eye(graph.number_of_nodes())\n",
    "        # M_g = I - self._beta*A\n",
    "        # M_l = self._beta*A\n",
    "        A = nx.to_numpy_matrix(graph)\n",
    "        M_g = np.eye(len(graph.nodes)) - beta * A\n",
    "        M_l = beta * A\n",
    "        S = np.dot(np.linalg.inv(M_g), M_l)\n",
    "\n",
    "        u, s, vt = lg.svds(S, k= d // 2)\n",
    "        X1 = np.dot(u, np.diag(np.sqrt(s)))\n",
    "        X2 = np.dot(vt.T, np.diag(np.sqrt(s)))\n",
    "        t2 = time()\n",
    "        X = np.concatenate((X1, X2), axis=1)\n",
    "\n",
    "        p_d_p_t = np.dot(u, np.dot(np.diag(s), vt))\n",
    "        eig_err = np.linalg.norm(p_d_p_t - S)\n",
    "        print('SVD error (low rank): %f' % eig_err)\n",
    "        return self._X, (t2 - t1)"
   ]
  }
 ],
 "metadata": {
  "kernelspec": {
   "display_name": "Python 3",
   "language": "python",
   "name": "python3"
  },
  "language_info": {
   "codemirror_mode": {
    "name": "ipython",
    "version": 3
   },
   "file_extension": ".py",
   "mimetype": "text/x-python",
   "name": "python",
   "nbconvert_exporter": "python",
   "pygments_lexer": "ipython3",
   "version": "3.6.12"
  }
 },
 "nbformat": 4,
 "nbformat_minor": 4
}
